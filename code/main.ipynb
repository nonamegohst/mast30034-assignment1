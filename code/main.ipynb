{
 "cells": [
  {
   "cell_type": "code",
   "execution_count": 3,
   "id": "287c013c-b0f8-4774-9773-0264a5b12921",
   "metadata": {},
   "outputs": [],
   "source": [
    "# Import Libraries\n",
    "import numpy as np\n",
    "import sklearn\n",
    "import pandas as pd\n",
    "import matplotlib.pyplot as plt\n",
    "import scipy.stats as stats\n",
    "import seaborn as sns"
   ]
  },
  {
   "cell_type": "code",
   "execution_count": 4,
   "id": "70a919f4-23dd-42fa-a848-6f95c79e5bec",
   "metadata": {},
   "outputs": [],
   "source": [
    "# Define global variables\n",
    "N = 240\n",
    "V = 441\n",
    "x1 = 21\n",
    "x2 = 21\n",
    "nsrcs = 6"
   ]
  },
  {
   "cell_type": "markdown",
   "id": "974c0dd9-0bbd-4584-aaab-fecb780622ab",
   "metadata": {},
   "source": [
    "# Question 1\n",
    "## Question 1.1"
   ]
  },
  {
   "cell_type": "code",
   "execution_count": null,
   "id": "4be85b7a-d233-4ce1-ac06-fad9fb902256",
   "metadata": {},
   "outputs": [],
   "source": [
    "AV = n"
   ]
  }
 ],
 "metadata": {
  "kernelspec": {
   "display_name": "Python 3 (ipykernel)",
   "language": "python",
   "name": "python3"
  },
  "language_info": {
   "codemirror_mode": {
    "name": "ipython",
    "version": 3
   },
   "file_extension": ".py",
   "mimetype": "text/x-python",
   "name": "python",
   "nbconvert_exporter": "python",
   "pygments_lexer": "ipython3",
   "version": "3.8.11"
  }
 },
 "nbformat": 4,
 "nbformat_minor": 5
}
